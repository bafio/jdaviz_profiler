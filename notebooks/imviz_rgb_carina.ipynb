{
 "cells": [
  {
   "cell_type": "code",
   "execution_count": 4,
   "id": "54f210a7-183d-46c0-accb-6a63ef3d6c9e",
   "metadata": {},
   "outputs": [],
   "source": [
    "import warnings\n",
    "\n",
    "from astroquery.mast import Observations\n",
    "\n",
    "from jdaviz import Imviz\n",
    "\n",
    "from IPython.display import Image"
   ]
  },
  {
   "cell_type": "code",
   "execution_count": 5,
   "id": "907dedf6-5908-406a-8587-6c4c76e17339",
   "metadata": {},
   "outputs": [],
   "source": [
    "imviz = Imviz()"
   ]
  },
  {
   "cell_type": "code",
   "execution_count": 6,
   "id": "c5361484-a23b-45c6-95f7-baae9063c194",
   "metadata": {},
   "outputs": [
    {
     "name": "stderr",
     "output_type": "stream",
     "text": [
      "2025-04-15 17:29:08,818 - stpipe - INFO - Found cached file ./jw02731-o001_t017_nircam_clear-f090w_i2d.fits with expected size 5907312000.\n",
      "2025-04-15 17:29:08,901 - stpipe - INFO - Found cached file ./jw02731-o001_t017_nircam_clear-f187n_i2d.fits with expected size 5907723840.\n",
      "2025-04-15 17:29:08,979 - stpipe - INFO - Found cached file ./jw02731-o001_t017_nircam_clear-f200w_i2d.fits with expected size 5912691840.\n"
     ]
    },
    {
     "name": "stdout",
     "output_type": "stream",
     "text": [
      "INFO: Found cached file ./jw02731-o001_t017_nircam_clear-f090w_i2d.fits with expected size 5907312000. [astroquery.query]\n",
      "INFO: Found cached file ./jw02731-o001_t017_nircam_clear-f187n_i2d.fits with expected size 5907723840. [astroquery.query]\n",
      "INFO: Found cached file ./jw02731-o001_t017_nircam_clear-f200w_i2d.fits with expected size 5912691840. [astroquery.query]\n"
     ]
    },
    {
     "name": "stderr",
     "output_type": "stream",
     "text": [
      "2025-04-15 17:29:09,047 - stpipe - INFO - Found cached file ./jw02731-o001_t017_nircam_clear-f335m_i2d.fits with expected size 944812800.\n",
      "2025-04-15 17:29:09,123 - stpipe - INFO - Found cached file ./jw02731-o001_t017_nircam_clear-f444w_i2d.fits with expected size 944812800.\n",
      "2025-04-15 17:29:09,198 - stpipe - INFO - Found cached file ./jw02731-o001_t017_nircam_f444w-f470n_i2d.fits with expected size 944098560.\n"
     ]
    },
    {
     "name": "stdout",
     "output_type": "stream",
     "text": [
      "INFO: Found cached file ./jw02731-o001_t017_nircam_clear-f335m_i2d.fits with expected size 944812800. [astroquery.query]\n",
      "INFO: Found cached file ./jw02731-o001_t017_nircam_clear-f444w_i2d.fits with expected size 944812800. [astroquery.query]\n",
      "INFO: Found cached file ./jw02731-o001_t017_nircam_f444w-f470n_i2d.fits with expected size 944098560. [astroquery.query]\n"
     ]
    }
   ],
   "source": [
    "data_dir = '.'\n",
    "\n",
    "files = ['jw02731-o001_t017_nircam_clear-f090w_i2d.fits',\n",
    "         'jw02731-o001_t017_nircam_clear-f187n_i2d.fits',\n",
    "         'jw02731-o001_t017_nircam_clear-f200w_i2d.fits',\n",
    "         'jw02731-o001_t017_nircam_clear-f335m_i2d.fits',\n",
    "         'jw02731-o001_t017_nircam_clear-f444w_i2d.fits',\n",
    "         'jw02731-o001_t017_nircam_f444w-f470n_i2d.fits']\n",
    "\n",
    "for fn in files:\n",
    "    uri = f\"mast:JWST/product/{fn}\"\n",
    "    result = Observations.download_file(uri, local_path=f'{data_dir}/{fn}')"
   ]
  },
  {
   "cell_type": "code",
   "execution_count": 7,
   "id": "36082d4b-5a38-48d2-b48a-773422678bee",
   "metadata": {},
   "outputs": [],
   "source": [
    "with warnings.catch_warnings():\n",
    "    warnings.simplefilter('ignore')\n",
    "    with imviz.batch_load():\n",
    "        for fn in files:\n",
    "            imviz.load_data(f'{data_dir}/{fn}', data_label=fn[31:36])"
   ]
  },
  {
   "cell_type": "code",
   "execution_count": 8,
   "id": "00485c2c-4eee-471b-a4fa-fb7737c50402",
   "metadata": {},
   "outputs": [
    {
     "data": {
      "application/vnd.jupyter.widget-view+json": {
       "model_id": "f2ab612bf7df4df0a954c87194ba0680",
       "version_major": 2,
       "version_minor": 0
      },
      "text/plain": [
       "Application(config='imviz', docs_link='https://jdaviz.readthedocs.io/en/v4.2.1/imviz/index.html', events=['cal…"
      ]
     },
     "metadata": {},
     "output_type": "display_data"
    }
   ],
   "source": [
    "imviz.show()"
   ]
  },
  {
   "cell_type": "code",
   "execution_count": 9,
   "id": "0fb8bf97-420c-474f-aff7-c441d0568ecd",
   "metadata": {},
   "outputs": [],
   "source": [
    "imviz.plugins['Orientation'].open_in_tray()"
   ]
  },
  {
   "cell_type": "code",
   "execution_count": 10,
   "id": "32ff073b-ac61-4e5e-beb6-5edc564da619",
   "metadata": {},
   "outputs": [],
   "source": [
    "# Link images by WCS (without affine approximation).\n",
    "imviz.plugins['Orientation'].align_by = 'WCS'"
   ]
  },
  {
   "cell_type": "code",
   "execution_count": 11,
   "id": "77c7f0cb-3ef5-4a79-88fa-2e4b57d2ace4",
   "metadata": {},
   "outputs": [],
   "source": [
    "plot_options = imviz.plugins['Plot Options']"
   ]
  },
  {
   "cell_type": "code",
   "execution_count": 12,
   "id": "64f00a92-bf1b-4746-ba08-8c5621d41ef0",
   "metadata": {},
   "outputs": [],
   "source": [
    "plot_options.image_color_mode = 'One color per layer'\n",
    "plot_options.apply_RGB_presets()"
   ]
  },
  {
   "cell_type": "code",
   "execution_count": 13,
   "id": "6bd9b981-6a3d-49f3-9814-c19452abe830",
   "metadata": {},
   "outputs": [],
   "source": [
    "plot_options.layer = 'f090w[DATA]'\n",
    "plot_options.stretch_vmin = 4\n",
    "plot_options.stretch_vmax = 16\n",
    "plot_options.image_bias = 0.39\n",
    "\n",
    "plot_options.layer = 'f187n[DATA]'\n",
    "plot_options.stretch_vmin = 10\n",
    "plot_options.stretch_vmax = 16\n",
    "plot_options.image_bias = 0.74\n",
    "\n",
    "plot_options.layer = 'f200w[DATA]'\n",
    "plot_options.stretch_vmin = 1\n",
    "plot_options.stretch_vmax = 5\n",
    "plot_options.image_bias = 0.66\n",
    "\n",
    "plot_options.layer = 'f335m[DATA]'\n",
    "plot_options.stretch_vmin = 4\n",
    "plot_options.stretch_vmax = 27\n",
    "plot_options.image_bias = 0.67\n",
    "\n",
    "plot_options.layer = 'f444w[DATA]'\n",
    "plot_options.stretch_vmin = 1\n",
    "plot_options.stretch_vmax = 14\n",
    "plot_options.image_bias = 0.56\n",
    "\n",
    "plot_options.layer = 'f470n[DATA]'\n",
    "plot_options.stretch_vmin = 1\n",
    "plot_options.stretch_vmax = 6\n",
    "plot_options.image_bias = 0.60"
   ]
  },
  {
   "cell_type": "code",
   "execution_count": 14,
   "id": "a0a71007-32e7-42cd-a377-c1b7f9666c65",
   "metadata": {},
   "outputs": [
    {
     "data": {
      "text/plain": [
       "PosixPath('/home/ftrabucchi/references/roman_notebooks/content/carina_preset.png')"
      ]
     },
     "execution_count": 14,
     "metadata": {},
     "output_type": "execute_result"
    }
   ],
   "source": [
    "exporting = imviz.plugins['Export']\n",
    "exporting.viewer = 'imviz-0'\n",
    "exporting.filename = 'carina_preset.png'\n",
    "exporting.export()"
   ]
  }
 ],
 "metadata": {
  "kernelspec": {
   "display_name": "Roman Calibration",
   "language": "python",
   "name": "roman-cal"
  },
  "language_info": {
   "codemirror_mode": {
    "name": "ipython",
    "version": 3
   },
   "file_extension": ".py",
   "mimetype": "text/x-python",
   "name": "python",
   "nbconvert_exporter": "python",
   "pygments_lexer": "ipython3",
   "version": "3.12.9"
  }
 },
 "nbformat": 4,
 "nbformat_minor": 5
}
