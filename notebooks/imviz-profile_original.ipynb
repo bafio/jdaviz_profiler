{
 "cells": [
  {
   "cell_type": "markdown",
   "id": "52ef14a2-9f4f-4263-b534-515b1af215ab",
   "metadata": {},
   "source": [
    "# Imviz profiling"
   ]
  },
  {
   "cell_type": "markdown",
   "id": "ad1dc670-0b48-49f7-86db-0c45037b5a6f",
   "metadata": {},
   "source": [
    "Create three channels of smoothly varying images:"
   ]
  },
  {
   "cell_type": "code",
   "execution_count": null,
   "id": "f676d76e-c33b-4c76-9907-98e5e4164b93",
   "metadata": {},
   "outputs": [],
   "source": [
    "%%time\n",
    "from time import sleep\n",
    "\n",
    "import numpy as np\n",
    "from scipy.ndimage import gaussian_filter\n",
    "from astropy.nddata import NDData\n",
    "from astropy.wcs import WCS\n",
    "\n",
    "from jdaviz import Imviz\n",
    "\n",
    "# pixel dimensions of the RGB image\n",
    "shape = (600, 600)\n",
    "\n",
    "# one side of the pixel, in degrees\n",
    "pixel_width = 0.005\n",
    "\n",
    "# offset the centers of the fields of view\n",
    "# for the three images by this fraction of \n",
    "# one image's width:\n",
    "center_offset = 0.2\n",
    "delta_ra_offset = (\n",
    "    center_offset * pixel_width * shape[0]\n",
    ")\n",
    "\n",
    "# the imviz viewport has a configurable size\n",
    "imviz_height = 800  # [pix]\n",
    "\n",
    "# compress images generated in the python kernel\n",
    "# with this method before sending to the client:\n",
    "# Choices: {'png' (default), 'webp', 'none'}\n",
    "image_compression = 'png' \n",
    "\n",
    "# number of images to generate: \n",
    "n_images = 6\n",
    "\n",
    "\n",
    "wcs_list = [\n",
    "    WCS({\n",
    "    'CTYPE1': 'RA---TAN', \n",
    "    'CUNIT1': 'deg', \n",
    "    'CDELT1': pixel_width,\n",
    "    'CRPIX1': shape[0] / 2, \n",
    "    'CRVAL1': 180 + i * delta_ra_offset,\n",
    "    'CTYPE2': 'DEC--TAN', \n",
    "    'CUNIT2': 'deg', \n",
    "    'CDELT2': pixel_width,\n",
    "    'CRPIX2': shape[1] / 2, \n",
    "    'CRVAL2': 0\n",
    "    }) for i in range(n_images)\n",
    "]\n",
    "\n",
    "random_shape = (6, 6)\n",
    "image_list = [np.random.uniform(size=random_shape) for i in range(n_images)]\n",
    "\n",
    "colors = ['c', 'y', 'm', 'r', 'g', 'b', 'o']\n",
    "\n",
    "def low_pass_filter(x):\n",
    "    rfft = np.fft.rfft2(x)\n",
    "    irfft = np.fft.irfft2(rfft, shape)\n",
    "    return 2**16 * irfft / irfft.max()\n",
    "\n",
    "nddata_cym = [\n",
    "    NDData(low_pass_filter(image), wcs=wcs) \n",
    "    for image, wcs in zip(image_list, wcs_list)\n",
    "]"
   ]
  },
  {
   "cell_type": "markdown",
   "id": "b86e7b76-d38e-4c62-9c1c-eec252a7d1df",
   "metadata": {},
   "source": [
    "Initialize and show Imviz:"
   ]
  },
  {
   "cell_type": "code",
   "execution_count": null,
   "id": "ca625d38-000f-4bcb-9df4-bf40b2dfbc57",
   "metadata": {},
   "outputs": [],
   "source": [
    "%%time\n",
    "\n",
    "imviz = Imviz()\n",
    "imviz.app.layout.border = '2px solid rgb(143, 56, 3)'\n",
    "imviz.app.get_viewer('imviz-0')._composite_image.compression = image_compression\n",
    "\n",
    "label_mouseover = imviz.app.session.application._tools['g-coords-info']\n",
    "viewer = imviz.default_viewer._obj\n",
    "\n",
    "# imviz.show('sidecar:split-right', height=800)\n",
    "imviz.show(height=imviz_height)"
   ]
  },
  {
   "cell_type": "markdown",
   "id": "b016c45f-3d33-40e7-888d-92ce25a830fc",
   "metadata": {},
   "source": [
    "Load the images into Imviz:"
   ]
  },
  {
   "cell_type": "code",
   "execution_count": null,
   "id": "133183f4-b389-4cae-900d-7010c05dae4a",
   "metadata": {},
   "outputs": [],
   "source": [
    "%%time\n",
    "\n",
    "with imviz.batch_load():\n",
    "    for nddata, data_label in zip(nddata_cym, colors):\n",
    "        imviz.load_data(nddata, data_label=data_label)\n",
    "\n",
    "compression = imviz.app.get_viewer('imviz-0')._composite_image.compression\n",
    "print(f\"glue-jupyter compression configuration: '{compression}'\")"
   ]
  },
  {
   "cell_type": "markdown",
   "id": "52615af9-bd32-4d76-90f6-7677d8287198",
   "metadata": {},
   "source": [
    "Use WCS to align the images, zoom to fit:"
   ]
  },
  {
   "cell_type": "code",
   "execution_count": null,
   "id": "508fa0c3-0f04-4ffb-a83f-955768070a20",
   "metadata": {},
   "outputs": [],
   "source": [
    "%%time\n",
    "\n",
    "orientation = imviz.plugins['Orientation']\n",
    "orientation.align_by = 'WCS'"
   ]
  },
  {
   "cell_type": "markdown",
   "id": "198cf199-d330-4227-9489-6ad5f1e17afe",
   "metadata": {},
   "source": [
    "Rotate the image orientation by 180 deg counter-clockwise:"
   ]
  },
  {
   "cell_type": "code",
   "execution_count": null,
   "id": "8fb46df8-e412-453e-93a0-d2660861942b",
   "metadata": {},
   "outputs": [],
   "source": [
    "%%time\n",
    "\n",
    "# # This seems not to work, fails on call that's effectively `viewer.zoom(0)`. Bug?\n",
    "# rotate the image by 180 deg (CCW):\n",
    "# orientation.add_orientation(rotation_angle=180)"
   ]
  },
  {
   "cell_type": "markdown",
   "id": "9e8d9faf-7fb7-429a-bc70-0019249f1485",
   "metadata": {},
   "source": [
    "Assign colors to each of the layers:"
   ]
  },
  {
   "cell_type": "code",
   "execution_count": null,
   "id": "216ea01c-ab6d-4a1a-af63-9ab1070f4a91",
   "metadata": {},
   "outputs": [],
   "source": [
    "%%time\n",
    "\n",
    "plot_options = imviz.plugins[\"Plot Options\"]\n",
    "for layer, color in zip(plot_options.layer.choices, colors):\n",
    "    plot_options.layer = layer\n",
    "    plot_options.image_color_mode = 'Color'\n",
    "    plot_options.image_color = color\n",
    "    plot_options.image_opacity = 0.7"
   ]
  },
  {
   "cell_type": "markdown",
   "id": "12be3766-0de1-4c29-b8e3-8c7db14d5fde",
   "metadata": {},
   "source": [
    "Return to the default orientation:"
   ]
  },
  {
   "cell_type": "code",
   "execution_count": null,
   "id": "dc9b71b1-f201-41bb-a5c2-426701aab578",
   "metadata": {},
   "outputs": [],
   "source": [
    "%%time\n",
    "\n",
    "# # This seems not to work, fails on call that's effectively `viewer.zoom(0)`. Bug?\n",
    "# orientation.orientation = 'Default orientation'"
   ]
  },
  {
   "cell_type": "markdown",
   "id": "99a2693f-473b-4dcc-86cd-3d7e395d2563",
   "metadata": {},
   "source": [
    "Blink through each layer (one visible at a time):"
   ]
  },
  {
   "cell_type": "code",
   "execution_count": null,
   "id": "13a2aff2-ac88-4fcb-801c-eec8e7b1b730",
   "metadata": {},
   "outputs": [],
   "source": [
    "%%time\n",
    "\n",
    "for i in range(len(plot_options.layer.choices)):\n",
    "    viewer.blink_once()"
   ]
  },
  {
   "cell_type": "markdown",
   "id": "c23c7704-47d7-42a2-8d3a-82134d390809",
   "metadata": {},
   "source": [
    "Make all layers visible again:"
   ]
  },
  {
   "cell_type": "code",
   "execution_count": null,
   "id": "963c94d3-6956-4b82-8dc0-4d29daf602ea",
   "metadata": {},
   "outputs": [],
   "source": [
    "%%time\n",
    "\n",
    "for layer in plot_options.layer.choices:\n",
    "    plot_options.layer = layer\n",
    "    plot_options.image_visible = True"
   ]
  },
  {
   "cell_type": "markdown",
   "id": "26892592-f701-4074-8dab-adb34771b1c8",
   "metadata": {},
   "source": [
    "Increment through colormap upper limits for each layer:"
   ]
  },
  {
   "cell_type": "code",
   "execution_count": null,
   "id": "63377d12-4f15-4549-b756-4a8168273499",
   "metadata": {},
   "outputs": [],
   "source": [
    "%%time\n",
    "\n",
    "for vmax in np.linspace(0, 2**16, 10):\n",
    "    for layer in plot_options.layer.choices:\n",
    "        plot_options.layer = layer\n",
    "        plot_options.stretch_vmin = 0\n",
    "        plot_options.stretch_vmax = vmax"
   ]
  },
  {
   "cell_type": "code",
   "execution_count": null,
   "id": "001420f2-6a73-469a-84a2-669cdaa53101",
   "metadata": {},
   "outputs": [],
   "source": []
  }
 ],
 "metadata": {
  "kernelspec": {
   "display_name": "Python 3 (ipykernel)",
   "language": "python",
   "name": "python3"
  },
  "language_info": {
   "codemirror_mode": {
    "name": "ipython",
    "version": 3
   },
   "file_extension": ".py",
   "mimetype": "text/x-python",
   "name": "python",
   "nbconvert_exporter": "python",
   "pygments_lexer": "ipython3",
   "version": "3.12.9"
  }
 },
 "nbformat": 4,
 "nbformat_minor": 5
}
