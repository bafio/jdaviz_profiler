{
 "cells": [
  {
   "cell_type": "code",
   "execution_count": 19,
   "id": "d3281e9c-7e45-41b5-9f89-4d60fc4d6e01",
   "metadata": {},
   "outputs": [
    {
     "name": "stderr",
     "output_type": "stream",
     "text": [
      "2025-03-28 15:31:50,181 - stpipe - INFO - Found cached file jw02727-o002_t062_nircam_clear-f090w_i2d.fits with expected size 715406400.\n"
     ]
    },
    {
     "name": "stdout",
     "output_type": "stream",
     "text": [
      "INFO: Found cached file jw02727-o002_t062_nircam_clear-f090w_i2d.fits with expected size 715406400. [astroquery.query]\n"
     ]
    }
   ],
   "source": [
    "import uuid\n",
    "from glue_jupyter.view import IPyWidgetView\n",
    "from jdaviz import Imviz\n",
    "from mast_aladin_lite.app import MastAladin\n",
    "\n",
    "class MastAladinView(IPyWidgetView):\n",
    "    inherit_tools = False\n",
    "    _toolbar_cls = None\n",
    "    _figure_widget = None\n",
    "    _deprecated_data_menu = None\n",
    "    data_menu = None\n",
    "    _layer_artist_container = []\n",
    "    tools = []\n",
    "    \n",
    "    @property\n",
    "    def figure_widget(self):\n",
    "        return self._figure_widget\n",
    "\n",
    "    @figure_widget.setter\n",
    "    def figure_widget(self, widget):\n",
    "        self._figure_widget = widget\n",
    "\n",
    "    def initialize_toolbar(self):\n",
    "        pass\n",
    "\n",
    "    def _deprecated_data_menu(self):\n",
    "        pass\n",
    "\n",
    "viz = Imviz()\n",
    "viz.app.layout.border = '2px solid rgb(143, 56, 3)'\n",
    "viz.load_data('mast:JWST/product/jw02727-o002_t062_nircam_clear-f090w_i2d.fits', cache=True)\n",
    "viz.show('sidecar:split-bottom')"
   ]
  },
  {
   "cell_type": "code",
   "execution_count": 20,
   "id": "62aee6d6-782b-49bc-bf3d-b2373a5af73b",
   "metadata": {},
   "outputs": [],
   "source": [
    "# toolbar height is hard coded in jdaviz here:\n",
    "# https://github.com/spacetelescope/jdaviz/blob/a3588cf43f3e68fde86688088f4578004be4aa39/jdaviz/main_styles.vue#L193\n",
    "toolbar_height = 42\n",
    "\n",
    "demo_view = MastAladinView(viz.app.session)\n",
    "height = viz.default_viewer._obj.figure_widget.marks[0].shape[0] + toolbar_height\n",
    "mast_aladin = MastAladin()#height=-1)\n",
    "\n",
    "demo_view.figure_widget = mast_aladin"
   ]
  },
  {
   "cell_type": "code",
   "execution_count": 21,
   "id": "7a21502a-ddf6-4a70-9a00-44cfcf10e074",
   "metadata": {},
   "outputs": [],
   "source": [
    "name = 'aladin-lite'\n",
    "\n",
    "# add viewer to the viewer store:\n",
    "viz.app._viewer_store[name] = demo_view\n",
    "\n",
    "# create a viewer item that refers to the MastAladin widget:\n",
    "viewer_item = {\n",
    "    'id': name,\n",
    "    'name': name,    \n",
    "    'widget': \"IPY_MODEL_\" + demo_view.figure_widget.model_id,\n",
    "    'reference': None,\n",
    "}\n",
    "\n",
    "\n",
    "# create a stack item, which creates the outer \n",
    "stack_item = {\n",
    "    'id': str(uuid.uuid4()),\n",
    "    'container': 'gl-stack',\n",
    "    'children': [],\n",
    "    'viewers': [viewer_item]\n",
    "}\n",
    "\n",
    "\n",
    "viz.app.state.stack_items.append(stack_item)"
   ]
  },
  {
   "cell_type": "code",
   "execution_count": null,
   "id": "41d34d50-0d20-4d49-8b89-688ae1e1bc7a",
   "metadata": {},
   "outputs": [],
   "source": []
  }
 ],
 "metadata": {
  "kernelspec": {
   "display_name": "Roman Calibration",
   "language": "python",
   "name": "roman-cal"
  },
  "language_info": {
   "codemirror_mode": {
    "name": "ipython",
    "version": 3
   },
   "file_extension": ".py",
   "mimetype": "text/x-python",
   "name": "python",
   "nbconvert_exporter": "python",
   "pygments_lexer": "ipython3",
   "version": "3.12.9"
  }
 },
 "nbformat": 4,
 "nbformat_minor": 5
}
