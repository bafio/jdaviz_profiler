{
 "cells": [
  {
   "cell_type": "markdown",
   "id": "65aff55f-b7ca-4964-9cf5-ad1b6ce53b4d",
   "metadata": {},
   "source": [
    "# Breaking Jdaviz\n",
    "- open 3 to 6 images from JADES - could use also HST images to play with combining gwcs and FITS wcs\n",
    "- align by WCS\n",
    "- change orient\n",
    "- make color image\n",
    "- create some subsets\n",
    "- plot nirspec footprint (6 footprints)\n",
    "- import catalog (need to click search in the UI)\n",
    "- zoom on target (UI)\n",
    "- pan and zoom a few times to see where it is with respect to the footprints (UI)\n",
    "- export some stuff (UI)"
   ]
  },
  {
   "cell_type": "code",
   "execution_count": 1,
   "id": "9483fddd-bd45-4078-bb64-4626bf80f514",
   "metadata": {},
   "outputs": [
    {
     "name": "stdout",
     "output_type": "stream",
     "text": [
      "4.2.2\n"
     ]
    }
   ],
   "source": [
    "from jdaviz import Imviz\n",
    "from regions import CircleSkyRegion\n",
    "from astropy import units as u\n",
    "from astropy.coordinates import SkyCoord\n",
    "from astropy.table import QTable\n",
    "from astropy.io import fits\n",
    "import jdaviz\n",
    "print(jdaviz.__version__)"
   ]
  },
  {
   "cell_type": "markdown",
   "id": "48667641-08a4-4aee-8e5c-47ee0d14e134",
   "metadata": {},
   "source": [
    "## All files used here"
   ]
  },
  {
   "cell_type": "markdown",
   "id": "0990590c-2439-4d93-bd48-0bc919e4aaba",
   "metadata": {},
   "source": [
    "JADES images and catalog in GOODS-S from v2.0 can be found here: https://archive.stsci.edu/hlsp/jades. They are HLSPs so in principle there is the direct MAST URI."
   ]
  },
  {
   "cell_type": "code",
   "execution_count": 2,
   "id": "b54ea100-93ef-4ca9-acce-d5bb5d681ffb",
   "metadata": {},
   "outputs": [],
   "source": [
    "files = ['mast:HLSP/jades/dr2/goods-s/images/hlsp_jades_jwst_nircam_goods-s-deep_f090w_v2.0_drz.fits',\n",
    "         'mast:HLSP/jades/dr2/goods-s/images/hlsp_jades_jwst_nircam_goods-s-deep_f115w_v2.0_drz.fits',\n",
    "         'mast:HLSP/jades/dr2/goods-s/images/hlsp_jades_jwst_nircam_goods-s-deep_f150w_v2.0_drz.fits',\n",
    "         'mast:HLSP/jades/dr2/goods-s/images/hlsp_jades_jwst_nircam_goods-s-deep_f200w_v2.0_drz.fits',\n",
    "         'mast:HLSP/jades/dr2/goods-s/images/hlsp_jades_jwst_nircam_goods-s-deep_f277w_v2.0_drz.fits',\n",
    "         'mast:HLSP/jades/dr2/goods-s/images/hlsp_jades_jwst_nircam_goods-s-deep_f356w_v2.0_drz.fits',\n",
    "         'mast:HLSP/jades/dr2/goods-s/images/hlsp_jades_jwst_nircam_goods-s-deep_f444w_v2.0_drz.fits'\n",
    "        ]"
   ]
  },
  {
   "cell_type": "markdown",
   "id": "04afc0be-1ce2-4e62-817f-c6f8070cfebd",
   "metadata": {},
   "source": [
    "## Imviz"
   ]
  },
  {
   "cell_type": "code",
   "execution_count": 5,
   "id": "91fc4871-d330-4112-9faa-47009f69d4f3",
   "metadata": {},
   "outputs": [
    {
     "data": {
      "application/javascript": [
       "\n",
       "                    window.jupyter_python_executable = '/opt/conda/bin/python3.12';\n",
       "                    window.jupyter_widget_checks_silent = true;\n",
       "                    window.jupyter_widget_checks_libraries = [{\"python\": \"ipyvuetify\", \"classic\": \"jupyter-vuetify/extension\", \"lab\": \"jupyter-vuetify\"}, {\"python\": \"ipyvue\", \"classic\": \"jupyter-vue/extension\", \"lab\": \"jupyter-vue\"}];\n",
       "                    "
      ],
      "text/plain": [
       "<IPython.core.display.Javascript object>"
      ]
     },
     "metadata": {},
     "output_type": "display_data"
    },
    {
     "data": {
      "text/html": [
       "<div class=\"jupyter-widget-checks-container\">\n",
       "    <script>\n",
       "        (function () {\n",
       "            console.log(\"Checking for jupyter-widgets extensions\")\n",
       "            const inLab = window._JUPYTERLAB !== undefined;\n",
       "            const silent = jupyter_widget_checks_silent;\n",
       "            const containers = document.getElementsByClassName('jupyter-widget-checks-container');\n",
       "            const rootEl = containers[containers.length - 1];\n",
       "            const libraries = window.jupyter_widget_checks_libraries;\n",
       "\n",
       "            function getBaseUrl() {\n",
       "                const labConfigData = document.getElementById(\"jupyter-config-data\");\n",
       "                if (labConfigData) {\n",
       "                    /* lab and Voila */\n",
       "                    return JSON.parse(labConfigData.textContent).baseUrl;\n",
       "                }\n",
       "                let base = document.body.dataset.baseUrl || document.baseURI;\n",
       "                return base;\n",
       "            }\n",
       "\n",
       "            function checkLibrary(extensions, library) {\n",
       "                let installed = false;\n",
       "                let ok = true;\n",
       "                if (inLab) {\n",
       "                    installed = _JUPYTERLAB[library.lab] !== undefined\n",
       "                } else {\n",
       "                    installed = extensions[library.classic] !== undefined;\n",
       "                    let enabled = extensions[library.classic] === true;\n",
       "                }\n",
       "                const div = document.createElement(\"div\")\n",
       "                if (installed) {\n",
       "                    if (!silent) {\n",
       "                        div.innerHTML = `Extension ${library.python} is installed at the server ✅`\n",
       "                        rootEl.appendChild(div)\n",
       "                    }\n",
       "                } else {\n",
       "                    div.innerHTML = `Extension ${library.python} is <b>NOT</b> installed at the server ❌.`\n",
       "                    rootEl.appendChild(div)\n",
       "                    ok = false;\n",
       "                }\n",
       "                return ok;\n",
       "            }\n",
       "\n",
       "            async function check() {\n",
       "                const url = `${getBaseUrl()}api/config/notebook`\n",
       "                const response = (await fetch(url));\n",
       "                const data = await response.json()\n",
       "                const extensions = data[\"load_extensions\"];\n",
       "                var ok = true;\n",
       "                let needsInstall = [];\n",
       "                libraries.forEach((library) => {\n",
       "                    if (!checkLibrary(extensions, library)) {\n",
       "                        ok = false;\n",
       "                        needsInstall.push(library.python)\n",
       "                        console.log(\"Needs install\", library.python)\n",
       "                    }\n",
       "                })\n",
       "                console.log(ok, needsInstall)\n",
       "                if (!ok) {\n",
       "                    const div = document.createElement(\"div\")\n",
       "                    const div2 = document.createElement(\"div\")\n",
       "                    div.innerHTML = `Run <code>${jupyter_python_executable} -m pip install ${needsInstall.join(\" \")}</code>. Refresh the page after installation.`\n",
       "                    div2.innerHTML = `Visit <a href=\"https://solara.dev/documentation/getting_started/troubleshoot\" target=\"_blank\">https://solara/dev/documentation/getting_started/troubleshoot</a> for more information.`\n",
       "                    rootEl.appendChild(div)\n",
       "                    rootEl.appendChild(div2)\n",
       "                }\n",
       "            }\n",
       "            check()\n",
       "        })();\n",
       "    </script>\n",
       "</div>\n"
      ],
      "text/plain": [
       "<IPython.core.display.HTML object>"
      ]
     },
     "metadata": {},
     "output_type": "display_data"
    },
    {
     "name": "stdout",
     "output_type": "stream",
     "text": [
      "Downloading URL https://mast.stsci.edu/api/v0.1/Download/file?uri=mast:HLSP/jades/dr2/goods-s/images/hlsp_jades_jwst_nircam_goods-s-deep_f090w_v2.0_drz.fits to hlsp_jades_jwst_nircam_goods-s-deep_f090w_v2.0_drz.fits ... [Done]\n",
      "Downloading URL https://mast.stsci.edu/api/v0.1/Download/file?uri=mast:HLSP/jades/dr2/goods-s/images/hlsp_jades_jwst_nircam_goods-s-deep_f115w_v2.0_drz.fits to hlsp_jades_jwst_nircam_goods-s-deep_f115w_v2.0_drz.fits ... [Done]\n",
      "Downloading URL https://mast.stsci.edu/api/v0.1/Download/file?uri=mast:HLSP/jades/dr2/goods-s/images/hlsp_jades_jwst_nircam_goods-s-deep_f150w_v2.0_drz.fits to hlsp_jades_jwst_nircam_goods-s-deep_f150w_v2.0_drz.fits ... [Done]\n",
      "Downloading URL https://mast.stsci.edu/api/v0.1/Download/file?uri=mast:HLSP/jades/dr2/goods-s/images/hlsp_jades_jwst_nircam_goods-s-deep_f200w_v2.0_drz.fits to hlsp_jades_jwst_nircam_goods-s-deep_f200w_v2.0_drz.fits ... [Done]\n",
      "Downloading URL https://mast.stsci.edu/api/v0.1/Download/file?uri=mast:HLSP/jades/dr2/goods-s/images/hlsp_jades_jwst_nircam_goods-s-deep_f277w_v2.0_drz.fits to hlsp_jades_jwst_nircam_goods-s-deep_f277w_v2.0_drz.fits ... [Done]\n",
      "Downloading URL https://mast.stsci.edu/api/v0.1/Download/file?uri=mast:HLSP/jades/dr2/goods-s/images/hlsp_jades_jwst_nircam_goods-s-deep_f356w_v2.0_drz.fits to hlsp_jades_jwst_nircam_goods-s-deep_f356w_v2.0_drz.fits ... [Done]\n",
      "Downloading URL https://mast.stsci.edu/api/v0.1/Download/file?uri=mast:HLSP/jades/dr2/goods-s/images/hlsp_jades_jwst_nircam_goods-s-deep_f444w_v2.0_drz.fits to hlsp_jades_jwst_nircam_goods-s-deep_f444w_v2.0_drz.fits ... [Done]\n"
     ]
    },
    {
     "data": {
      "application/vnd.jupyter.widget-view+json": {
       "model_id": "d5a2a4c14c174699bf4c37a0cd71c2fd",
       "version_major": 2,
       "version_minor": 0
      },
      "text/plain": [
       "Application(config='imviz', docs_link='https://jdaviz.readthedocs.io/en/v4.2.2/imviz/index.html', events=['cal…"
      ]
     },
     "metadata": {},
     "output_type": "display_data"
    }
   ],
   "source": [
    "imviz = Imviz()\n",
    "with imviz.batch_load():\n",
    "    for filepath in files:\n",
    "        imviz.load_data(filepath, cache=True)\n",
    "imviz.show()"
   ]
  },
  {
   "cell_type": "markdown",
   "id": "db4b4478-a1d8-4663-854b-8a08d0a630d6",
   "metadata": {},
   "source": [
    "## Align"
   ]
  },
  {
   "cell_type": "code",
   "execution_count": 6,
   "id": "73d30883-5f41-4416-b99a-b4021d2d5ce8",
   "metadata": {},
   "outputs": [],
   "source": [
    "plwcs = imviz.plugins['Orientation']\n",
    "plwcs.align_by = 'WCS'"
   ]
  },
  {
   "cell_type": "code",
   "execution_count": 7,
   "id": "c2fd6560-204e-4dd6-a817-efc1b5909e0b",
   "metadata": {},
   "outputs": [],
   "source": [
    "plwcs.rotation_angle = 25\n",
    "#plwcs.new_layer = '25deg' this is throwing an error, but it should be possible given the API hint\n",
    "plwcs.add_orientation()"
   ]
  },
  {
   "cell_type": "markdown",
   "id": "676d9d66-9d88-4ba8-af32-aa24bf84638a",
   "metadata": {},
   "source": [
    "## Plot options"
   ]
  },
  {
   "cell_type": "code",
   "execution_count": 8,
   "id": "704108fc-0ad4-49b2-9413-d0d6e8434e80",
   "metadata": {},
   "outputs": [],
   "source": [
    "plplot = imviz.plugins['Plot Options']\n",
    "plplot.image_color_mode = 'Color'\n",
    "plplot.apply_RGB_presets()"
   ]
  },
  {
   "cell_type": "code",
   "execution_count": 9,
   "id": "e884c8ac-09a3-4945-beaa-dd192f6d9625",
   "metadata": {},
   "outputs": [
    {
     "data": {
      "text/plain": [
       "['hlsp_jades_jwst_nircam_goods-s-deep_f090w_v2.0_drz[SCI,1]',\n",
       " 'hlsp_jades_jwst_nircam_goods-s-deep_f115w_v2.0_drz[SCI,1]',\n",
       " 'hlsp_jades_jwst_nircam_goods-s-deep_f150w_v2.0_drz[SCI,1]',\n",
       " 'hlsp_jades_jwst_nircam_goods-s-deep_f200w_v2.0_drz[SCI,1]',\n",
       " 'hlsp_jades_jwst_nircam_goods-s-deep_f277w_v2.0_drz[SCI,1]',\n",
       " 'hlsp_jades_jwst_nircam_goods-s-deep_f356w_v2.0_drz[SCI,1]',\n",
       " 'hlsp_jades_jwst_nircam_goods-s-deep_f444w_v2.0_drz[SCI,1]',\n",
       " 'Default orientation',\n",
       " 'CCW 25.00 deg (E-left)']"
      ]
     },
     "execution_count": 9,
     "metadata": {},
     "output_type": "execute_result"
    }
   ],
   "source": [
    "datalabels = imviz.data_labels\n",
    "datalabels"
   ]
  },
  {
   "cell_type": "code",
   "execution_count": 10,
   "id": "d5d07fa8-b558-4372-b880-d5f8008aadd1",
   "metadata": {},
   "outputs": [],
   "source": [
    "plplot = imviz.plugins['Plot Options']\n",
    "for ii in range(0, 7):\n",
    "    plplot.layer = datalabels[ii]\n",
    "    plplot.stretch_vmin = 0\n",
    "    plplot.stretch_vmax = 1.5"
   ]
  },
  {
   "cell_type": "markdown",
   "id": "9c0d57f1-8f49-4940-a989-a4301b7b3d21",
   "metadata": {},
   "source": [
    "## Subsets"
   ]
  },
  {
   "cell_type": "code",
   "execution_count": 11,
   "id": "521d5602-f039-48c5-9cf8-666006f7969f",
   "metadata": {},
   "outputs": [],
   "source": [
    "reg1_skycoord = SkyCoord(ra=53.16978310613798*u.deg, dec=-27.82401302053590*u.deg)\n",
    "reg1 = CircleSkyRegion(center=reg1_skycoord, radius=5*u.arcsec)\n",
    "reg2_skycoord = SkyCoord(ra=53.16315080661268*u.deg, dec=-27.812456485258068*u.deg)\n",
    "reg2 = CircleSkyRegion(center=reg2_skycoord, radius=5*u.arcsec)\n",
    "reg3_skycoord = SkyCoord(ra=53.156459566096395*u.deg, dec=-27.810851763504235*u.deg)\n",
    "reg3 = CircleSkyRegion(center=reg3_skycoord, radius=5*u.arcsec)\n",
    "reg4_skycoord = SkyCoord(ra=53.16692832905267*u.deg, dec=-27.798776778958917*u.deg)\n",
    "reg4 = CircleSkyRegion(center=reg4_skycoord, radius=5*u.arcsec)\n",
    "\n",
    "plsub = imviz.plugins['Subset Tools']\n",
    "plsub.import_region(reg1, combination_mode='new')\n",
    "plsub.import_region(reg2, combination_mode='new')\n",
    "plsub.import_region(reg3, combination_mode='new')\n",
    "plsub.import_region(reg4, combination_mode='new')\n"
   ]
  },
  {
   "cell_type": "markdown",
   "id": "52467170-8c03-4134-95be-057588ecd5f8",
   "metadata": {},
   "source": [
    "## Footprints"
   ]
  },
  {
   "cell_type": "code",
   "execution_count": 12,
   "id": "5aab1d1d-b491-4d24-929f-e4cb7c095238",
   "metadata": {},
   "outputs": [],
   "source": [
    "fprint = imviz.plugins['Footprints']\n",
    "fprint.open_in_tray()\n",
    "fprint.keep_active = True\n",
    "\n",
    "pointings = {'name': ['pointing1', 'pointing2', 'pointing3', 'pointing4', 'pointing5', 'pointing6'],\n",
    "                      'ra': [53.192061669754764, 53.15370709808378, 53.169196860419085, 53.12602624548044, 53.131106556347646, 53.073274945951624],\n",
    "                      'dec': [-27.771175243855147, -27.75585436112119, -27.817104320074165, -27.802238574939317, -27.869300299918887, -27.85057767095679],\n",
    "                      'pa': [346.2005, 346.2210, 346.0699, 346.0815, 333.3922, 267.130400]\n",
    "                     }\n",
    "\n",
    "num_points = len(pointings['name'])\n",
    "for i in range(0,num_points):\n",
    "    fprint.add_overlay(pointings['name'][i])\n",
    "    fprint.color = 'yellow'\n",
    "    fprint.preset = 'NIRSpec'\n",
    "    fprint.ra = pointings['ra'][i]\n",
    "    fprint.dec = pointings['dec'][i]\n",
    "    fprint.pa = pointings['pa'][i]\n",
    "\n",
    "fprint.remove_overlay(lbl='default')"
   ]
  },
  {
   "cell_type": "markdown",
   "id": "62472872-b519-4644-a7f5-7161cf7bb516",
   "metadata": {},
   "source": [
    "## Catalog\n",
    "Trying to load the whole thing made my laptop almost crash. I am selecting a subset of sources. Change manually the max number of sources to be more than the length of `subcat`."
   ]
  },
  {
   "cell_type": "code",
   "execution_count": 23,
   "id": "62344119-3fa4-484f-85c5-72d5eb490f89",
   "metadata": {},
   "outputs": [],
   "source": [
    "catalog = './hlsp_jades_jwst_nircam_goods-s-deep_photometry_v2.0_catalog.fits'"
   ]
  },
  {
   "cell_type": "code",
   "execution_count": 25,
   "id": "4609249a-f5e4-4c76-ab55-c120b3f8d89e",
   "metadata": {},
   "outputs": [
    {
     "data": {
      "text/plain": [
       "1264"
      ]
     },
     "execution_count": 25,
     "metadata": {},
     "output_type": "execute_result"
    }
   ],
   "source": [
    "cat = QTable.read(catalog, hdu=3)\n",
    "cat['sky_centroid'] = SkyCoord(ra=cat['RA']*u.deg, dec=cat['DEC']*u.deg)\n",
    "subcat = cat[cat['R_KRON']>1.0]\n",
    "len(subcat)"
   ]
  },
  {
   "cell_type": "code",
   "execution_count": 27,
   "id": "e90b7da8-866a-4dd0-ac78-8e3114558a8a",
   "metadata": {},
   "outputs": [],
   "source": [
    "plcat = imviz.plugins['Catalog Search']\n",
    "plcat.import_catalog(subcat)"
   ]
  },
  {
   "cell_type": "code",
   "execution_count": null,
   "id": "c0ac9fc4-5fa6-4566-bd4a-8772d868fd71",
   "metadata": {},
   "outputs": [],
   "source": []
  }
 ],
 "metadata": {
  "kernelspec": {
   "display_name": "Roman Calibration",
   "language": "python",
   "name": "roman-cal"
  },
  "language_info": {
   "codemirror_mode": {
    "name": "ipython",
    "version": 3
   },
   "file_extension": ".py",
   "mimetype": "text/x-python",
   "name": "python",
   "nbconvert_exporter": "python",
   "pygments_lexer": "ipython3",
   "version": "3.12.9"
  }
 },
 "nbformat": 4,
 "nbformat_minor": 5
}
