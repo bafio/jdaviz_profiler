{
 "cells": [
  {
   "cell_type": "code",
   "execution_count": null,
   "id": "ed5c2975",
   "metadata": {
    "vscode": {
     "languageId": "plaintext"
    }
   },
   "outputs": [],
   "source": [
    "import papermill as pm"
   ]
  },
  {
   "cell_type": "code",
   "execution_count": null,
   "id": "4ab15e02",
   "metadata": {
    "vscode": {
     "languageId": "plaintext"
    }
   },
   "outputs": [],
   "source": [
    "pm.execute_notebook(\n",
    "   'imviz-profile.ipynb',\n",
    "   'Output_3img_100px.ipynb',\n",
    "   parameters=dict(n_images=3, pixel=100)\n",
    ")"
   ]
  },
  {
   "cell_type": "code",
   "execution_count": null,
   "id": "2ccc38e8",
   "metadata": {
    "vscode": {
     "languageId": "plaintext"
    }
   },
   "outputs": [],
   "source": [
    "pm.execute_notebook(\n",
    "   'imviz-profile.ipynb',\n",
    "   'Output_5img_1000px.ipynb',\n",
    "   parameters=dict(n_images=5, pixel=1000)\n",
    ")"
   ]
  },
  {
   "cell_type": "code",
   "execution_count": null,
   "id": "69d0df85",
   "metadata": {
    "vscode": {
     "languageId": "plaintext"
    }
   },
   "outputs": [],
   "source": [
    "pm.execute_notebook(\n",
    "   'imviz-profile.ipynb',\n",
    "   'Output_6img_10000px.ipynb',\n",
    "   parameters=dict(n_images=6, pixel=10000)\n",
    ")"
   ]
  }
 ],
 "metadata": {
  "language_info": {
   "name": "python"
  }
 },
 "nbformat": 4,
 "nbformat_minor": 5
}
