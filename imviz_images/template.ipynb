{
 "cells": [
  {
   "cell_type": "code",
   "execution_count": null,
   "id": "8f117945",
   "metadata": {
    "tags": [
     "skip_profiling"
    ]
   },
   "outputs": [],
   "source": [
    "### Imviz profiling\n",
    "\n",
    "import numpy as np\n",
    "from astropy.nddata import NDData\n",
    "from astropy.wcs import WCS\n",
    "from jdaviz import Imviz"
   ]
  },
  {
   "cell_type": "code",
   "execution_count": null,
   "id": "5c43dabb-f51b-4aa8-b6d2-980a1dd513b0",
   "metadata": {
    "tags": [
     "parameters",
     "skip_profiling"
    ]
   },
   "outputs": [],
   "source": [
    "# image size parameter (in pixels per side)\n",
    "# (500, 1000, 10_000, 100_000) pixels per side\n",
    "image_pixel_side = {image_pixel_side_value}\n",
    "\n",
    "# viewport size parameter (in pixels)\n",
    "# (600, 1000, 2000, 4000) pixels per side\n",
    "viewport_pixel_size = {viewport_pixel_size_value}\n",
    "\n",
    "# number of large images loaded/generated simultaneously and WCS-linked\n",
    "# (1, 3, 5, 10, 25) images\n",
    "n_images = {n_images_value}\n",
    "\n",
    "# compress images generated in the python kernel, with this method before sending to the client\n",
    "# ('png', 'webp', 'none')\n",
    "image_compression = {image_compression_value}\n",
    "\n",
    "# the value in megabytes to which the network should be throttled to\n",
    "# (0.5, 1, 5, 10, 50, 100) megabytes\n",
    "ui_network_throttling = {ui_network_throttling_value}"
   ]
  },
  {
   "cell_type": "code",
   "execution_count": null,
   "id": "f676d76e-c33b-4c76-9907-98e5e4164b93",
   "metadata": {},
   "outputs": [],
   "source": [
    "shape = (image_pixel_side, image_pixel_side)\n",
    "\n",
    "# one side of the pixel, in degrees\n",
    "pixel_width = 0.005\n",
    "\n",
    "# offset the centers of the fields of view\n",
    "# for the three images by this fraction of\n",
    "# one image's width:\n",
    "center_offset = 0.2\n",
    "delta_ra_offset = center_offset * pixel_width * shape[0]\n",
    "\n",
    "wcs_list = [\n",
    "    WCS({\n",
    "    'CTYPE1': 'RA---TAN',\n",
    "    'CUNIT1': 'deg',\n",
    "    'CDELT1': pixel_width,\n",
    "    'CRPIX1': shape[0] / 2,\n",
    "    'CRVAL1': 180 + i * delta_ra_offset,\n",
    "    'CTYPE2': 'DEC--TAN',\n",
    "    'CUNIT2': 'deg',\n",
    "    'CDELT2': pixel_width,\n",
    "    'CRPIX2': shape[1] / 2,\n",
    "    'CRVAL2': 0\n",
    "    }) for i in range(n_images)\n",
    "]\n",
    "\n",
    "random_shape = (6, 6)\n",
    "image_list = [np.random.uniform(size=random_shape) for i in range(n_images)]\n",
    "\n",
    "colors = ['c', 'y', 'm', 'r', 'g', 'b', 'o']\n",
    "\n",
    "def low_pass_filter(x):\n",
    "    rfft = np.fft.rfft2(x)\n",
    "    irfft = np.fft.irfft2(rfft, shape)\n",
    "    return 2**16 * irfft / irfft.max()\n",
    "\n",
    "nddata_cym = [\n",
    "    NDData(low_pass_filter(image), wcs=wcs)\n",
    "    for image, wcs in zip(image_list, wcs_list)\n",
    "]"
   ]
  },
  {
   "cell_type": "code",
   "execution_count": null,
   "id": "ca625d38-000f-4bcb-9df4-bf40b2dfbc57",
   "metadata": {
    "tags": [
     "wait_for_viz"
    ]
   },
   "outputs": [],
   "source": [
    "### Initialize and show Imviz\n",
    "\n",
    "imviz = Imviz()\n",
    "imviz.app.get_viewer('imviz-0')._composite_image.compression = image_compression\n",
    "\n",
    "label_mouseover = imviz.app.session.application._tools['g-coords-info']\n",
    "viewer = imviz.default_viewer._obj\n",
    "\n",
    "imviz.show('sidecar:split-right', height=viewport_pixel_size)"
   ]
  },
  {
   "cell_type": "code",
   "execution_count": null,
   "id": "133183f4-b389-4cae-900d-7010c05dae4a",
   "metadata": {
    "tags": [
     "wait_for_viz"
    ]
   },
   "outputs": [],
   "source": [
    "### Load the images into Imviz\n",
    "\n",
    "with imviz.batch_load():\n",
    "    for nddata, data_label in zip(nddata_cym, colors):\n",
    "        imviz.load_data(nddata, data_label=data_label)\n",
    "\n",
    "compression = imviz.app.get_viewer('imviz-0')._composite_image.compression\n",
    "print(f\"glue-jupyter compression configuration: '{compression}'\")"
   ]
  },
  {
   "cell_type": "code",
   "execution_count": null,
   "id": "508fa0c3-0f04-4ffb-a83f-955768070a20",
   "metadata": {
    "tags": [
     "wait_for_viz"
    ]
   },
   "outputs": [],
   "source": [
    "### Use WCS to align the images, zoom to fit\n",
    "\n",
    "orientation = imviz.plugins['Orientation']\n",
    "orientation.align_by = 'WCS'"
   ]
  },
  {
   "cell_type": "code",
   "execution_count": null,
   "id": "8fb46df8-e412-453e-93a0-d2660861942b",
   "metadata": {
    "tags": [
     "skip_profiling"
    ]
   },
   "outputs": [],
   "source": [
    "### Rotate the image orientation by 180 deg counter-clockwise\n",
    "\n",
    "# # This seems not to work, fails on call that's effectively `viewer.zoom(0)`. Bug?\n",
    "# rotate the image by 180 deg (CCW):\n",
    "# orientation.add_orientation(rotation_angle=180)"
   ]
  },
  {
   "cell_type": "code",
   "execution_count": null,
   "id": "216ea01c-ab6d-4a1a-af63-9ab1070f4a91",
   "metadata": {
    "tags": [
     "wait_for_viz"
    ]
   },
   "outputs": [],
   "source": [
    "### Assign colors to each of the layers\n",
    "\n",
    "plot_options = imviz.plugins[\"Plot Options\"]\n",
    "for layer, color in zip(plot_options.layer.choices, colors):\n",
    "    plot_options.layer = layer\n",
    "    plot_options.image_color_mode = 'Color'\n",
    "    plot_options.image_color = color\n",
    "    plot_options.image_opacity = 0.7"
   ]
  },
  {
   "cell_type": "code",
   "execution_count": null,
   "id": "dc9b71b1-f201-41bb-a5c2-426701aab578",
   "metadata": {
    "tags": [
     "skip_profiling"
    ]
   },
   "outputs": [],
   "source": [
    "### Return to the default orientation\n",
    "\n",
    "# # This seems not to work, fails on call that's effectively `viewer.zoom(0)`. Bug?\n",
    "# orientation.orientation = 'Default orientation'"
   ]
  },
  {
   "cell_type": "code",
   "execution_count": null,
   "id": "13a2aff2-ac88-4fcb-801c-eec8e7b1b730",
   "metadata": {
    "tags": [
     "wait_for_viz"
    ]
   },
   "outputs": [],
   "source": [
    "### Blink through each layer (one visible at a time)\n",
    "\n",
    "for i in range(len(plot_options.layer.choices)):\n",
    "    viewer.blink_once()"
   ]
  },
  {
   "cell_type": "code",
   "execution_count": null,
   "id": "963c94d3-6956-4b82-8dc0-4d29daf602ea",
   "metadata": {
    "tags": [
     "wait_for_viz"
    ]
   },
   "outputs": [],
   "source": [
    "### Make all layers visible again\n",
    "\n",
    "for layer in plot_options.layer.choices:\n",
    "    plot_options.layer = layer\n",
    "    plot_options.image_visible = True"
   ]
  },
  {
   "cell_type": "code",
   "execution_count": null,
   "id": "63377d12-4f15-4549-b756-4a8168273499",
   "metadata": {
    "tags": [
     "wait_for_viz"
    ]
   },
   "outputs": [],
   "source": [
    "### Increment through colormap upper limits for each layer\n",
    "\n",
    "for vmax in np.linspace(0, 2**16, 10):\n",
    "    for layer in plot_options.layer.choices:\n",
    "        plot_options.layer = layer\n",
    "        plot_options.stretch_vmin = 0\n",
    "        plot_options.stretch_vmax = vmax"
   ]
  }
 ],
 "metadata": {
  "kernelspec": {
   "display_name": "Roman Calibration",
   "language": "python",
   "name": "roman-cal"
  },
  "language_info": {
   "codemirror_mode": {
    "name": "ipython",
    "version": 3
   },
   "file_extension": ".py",
   "mimetype": "text/x-python",
   "name": "python",
   "nbconvert_exporter": "python",
   "pygments_lexer": "ipython3",
   "version": "3.12.9"
  }
 },
 "nbformat": 4,
 "nbformat_minor": 5
}
